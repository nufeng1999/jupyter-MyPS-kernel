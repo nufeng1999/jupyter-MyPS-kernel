{
 "cells": [
  {
   "cell_type": "code",
   "execution_count": null,
   "id": "e89bf7e5-4f2a-490f-ba8e-160e0fe5cd2d",
   "metadata": {},
   "outputs": [],
   "source": [
    "##%log:1\n",
    "##%runinterm\n",
    "##%term:c:\\Windows\\System32\\cmd.exe /c start bash\n",
    "##%overwritefile\n",
    "##%file:src/test.sh\n",
    "#!/bin/bash\n",
    "ls -al \n"
   ]
  },
  {
   "cell_type": "code",
   "execution_count": 1,
   "id": "19b580f5-a5a5-4f06-a710-c78e07cf42e4",
   "metadata": {},
   "outputs": [
    {
     "name": "stdout",
     "output_type": "stream",
     "text": [
      "[MyBash Kernel] Info:file h:\\Jupyter\\jupyter-MyPS-kernel\\example\\src/test.ps1 created successfully\n",
      "[MyBash Kernel] Info:The process :h:\\Jupyter\\jupyter-MyPS-kernel\\example\\src/test.ps1\n",
      "[MyBash Kernel] Info:powershell.exe -File h:\\Jupyter\\jupyter-MyPS-kernel\\example\\src/test.ps1 \n"
     ]
    },
    {
     "data": {
      "text/plain": [
       "中文测试\r\n"
      ]
     },
     "metadata": {
      "text/plain": {}
     },
     "output_type": "display_data"
    },
    {
     "data": {
      "text/plain": [
       "\r\n",
       "主题\r\n",
       "Windows PowerShell 帮助系统\r\n",
       "\r\n",
       "简短说明\r\n",
       "显示有关 Windows PowerShell 的 cmdlet 及概念的帮助。 \r\n",
       "\r\n",
       "详细说明\r\n",
       "    “Windows PowerShell 帮助”介绍了 Windows PowerShell 的 cmdlet、\r\n",
       "    函数、脚本及模块，并解释了 \r\n",
       "    Windows PowerShell 语言的元素等概念。\r\n",
       "\r\n",
       "    Windows PowerShell 中不包含帮助文件，但你可以联机参阅\r\n",
       "    帮助主题，或使用 Update-Help cmdlet 将帮助文件下载\r\n",
       "    到你的计算机中，然后在命令行中使用 Get-Help cmdlet 来显示帮助\r\n",
       "    主题。\r\n",
       "\r\n",
       "    你也可以使用 Update-Help cmdlet 在该网站发布了更新的帮助文件时下载它们，\r\n",
       "    这样，你的本地帮助内容便永远都不会过时。 \r\n",
       "\r\n",
       "    如果没有帮助文件，Get-Help 会显示自动生成的有关 cmdlet、 \r\n",
       "    函数及脚本的帮助。\r\n",
       "\r\n",
       "\r\n",
       "联机帮助    \r\n",
       "    你可以在 TechNet 库中找到有关 Windows PowerShell 的联机帮助，\r\n",
       "网址为 http://go.microsoft.com/fwlink/?LinkID=108518。 \r\n",
       "\r\n",
       "    若要打开有关任一 cmdlet 或函数的联机帮助，请键入：\r\n",
       "\r\n",
       "Get-Help <cmdlet-name> -Online    \r\n",
       "\r\n",
       "  UPDATE-HELP\r\n",
       "    若要下载帮助文件并将其安装在计算机上，请执行以下步骤：\r\n",
       "\r\n",
       "1. 使用“以管理员身份运行”选项启动 Windows PowerShell。\r\n",
       "2. 键入：\r\n",
       "\r\n",
       "          Update-Help\r\n",
       "\r\n",
       "    安装了帮助文件之后，你便可以使用 Get-Help cmdlet 来\r\n",
       "显示帮助主题。 你也可以使用 Update-Help cmdlet 来\r\n",
       "    下载更新的帮助文件，让本地帮助文件始终保持\r\n",
       "    为最新。\r\n",
       "    \r\n",
       "有关 Update-Help cmdlet 的详细信息，请键入：\r\n",
       "\r\n",
       "       Get-Help Update-Help -Online\r\n",
       "\r\n",
       "    或转至：http://go.microsoft.com/fwlink/?LinkID=210614\r\n",
       "\r\n",
       "\r\n",
       "  GET-HELP\r\n",
       "    Get-Help cmdlet 会在命令行中显示计算机上帮助文件中的\r\n",
       "    帮助内容。 如果没有帮助文件，Get-Help 会显示有关\r\n",
       "     cmdlet 和函数的基本帮助。 你也可以使用 Get-Help 来显示\r\n",
       "    有关 cmdlet 和函数的联机帮助。\r\n",
       "\r\n",
       "若要获取某个 cmdlet 的帮助，请键入：\r\n",
       "\r\n",
       "Get-Help <cmdlet-name>\r\n",
       "    \r\n",
       "若要获取联机帮助，请键入：\r\n",
       "   \r\n",
       "Get-Help <cmdlet-name> -Online    \r\n",
       "\r\n",
       "    概念性主题的标题会以“About_”开头。\r\n",
       "    若要获取有关某个概念或语言元素的帮助，请键入：\r\n",
       "\r\n",
       "        Get-Help About_<topic-name>\r\n",
       "\r\n",
       "    要在所有帮助文件中搜索某个词或短语，请键入：\r\n",
       "\r\n",
       "        Get-Help <search-term>\r\n",
       "\r\n",
       "有关 Get-Help cmdlet 的详细信息，请键入：\r\n",
       "\r\n",
       "        Get-Help Get-Help -Online\r\n",
       "\r\n",
       "    或转至：http://go.microsoft.com/fwlink/?LinkID=113316\r\n",
       "\r\n",
       "\r\n",
       "示例：\r\n",
       "      Save-Help              ：从 Internet 下载帮助文件并将其保存在\r\n",
       "                               文件共享中。\r\n",
       "      Update-Help            ：从 Internet 或文件共享下载并安装\r\n",
       "                               帮助文件。\r\n",
       "Get-Help Get-Process   ：显示有关 Get-Process cmdlet 的帮助。   \r\n",
       "      Get-Help Get-Process -Online\r\n",
       "                             : 打开有关 Get-Process cmdlet 的联机帮助。                            \r\n",
       "      Help Get-Process       ：显示有关 Get-Process 的帮助，一次显示一页。\r\n",
       "Get-Process -?         ：显示有关 Get-Process cmdlet 的帮助。      \r\n",
       "      Get-Help About_Modules ：显示有关 Windows PowerShell 模块的帮助。\r\n",
       "Get-Help remoting      ： 在帮助主题中搜索“remoting”（远程处理）。\r\n",
       "\r\n",
       "另请参阅：\r\n",
       "      about_Updatable_Help\r\n",
       "      Get-Help\r\n",
       "      Save-Help\r\n",
       "      Update-Help\r\n",
       "\r\n",
       "\r\n",
       "\r\n",
       "\r\n",
       "\r\n",
       "\r\n",
       "\r\n",
       "\r\n",
       "\r\n",
       "\r\n",
       "\r\n",
       "\r\n",
       "\r\n"
      ]
     },
     "metadata": {
      "text/plain": {}
     },
     "output_type": "display_data"
    },
    {
     "name": "stdout",
     "output_type": "stream",
     "text": [
      "[MyBash Kernel] Info:The process end:7868\n"
     ]
    }
   ],
   "source": [
    "##%log:1\n",
    "## %runinterm\n",
    "##%overwritefile\n",
    "##%file:src/test.ps1\n",
    "echo \"中文测试\"\n",
    "Get-Help\n"
   ]
  },
  {
   "cell_type": "code",
   "execution_count": null,
   "id": "3c072d04-0882-4385-8585-06755f724af3",
   "metadata": {},
   "outputs": [],
   "source": [
    "//%log:0\n",
    "//%pubcmd:--help\n",
    "///%kcmd:ll -h\n",
    "//%noruncode"
   ]
  }
 ],
 "metadata": {
  "interpreter": {
   "hash": "38bff49347d1e315ffe4e438ca69c956c90694fd6c920dd305da3d1e99520bc7"
  },
  "kernelspec": {
   "display_name": "MyPS",
   "language": "powershell",
   "name": "myps"
  },
  "language_info": {
   "file_extension": ".ps",
   "mimetype": "text/powershell",
   "name": "powershell"
  }
 },
 "nbformat": 4,
 "nbformat_minor": 5
}
